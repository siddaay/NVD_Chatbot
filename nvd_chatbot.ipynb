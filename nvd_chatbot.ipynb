{
 "cells": [
  {
   "cell_type": "code",
   "execution_count": null,
   "id": "cf6bf944-7905-435e-9700-ede13f3eec0e",
   "metadata": {
    "id": "cf6bf944-7905-435e-9700-ede13f3eec0e"
   },
   "outputs": [],
   "source": [
    "pip install -U langchain requests langchain_mistralai"
   ]
  },
  {
   "cell_type": "code",
   "execution_count": null,
   "id": "73bf3a82-52b4-4b7e-b92f-b5eed6179c5d",
   "metadata": {
    "id": "73bf3a82-52b4-4b7e-b92f-b5eed6179c5d"
   },
   "outputs": [],
   "source": [
    "import requests\n",
    "import os\n",
    "from dotenv import load_dotenv\n",
    "from langchain.agents import AgentType, initialize_agent, tool\n",
    "from langchain_mistralai.chat_models import ChatMistralAI"
   ]
  },
  {
   "cell_type": "code",
   "execution_count": null,
   "id": "bb70f304-6c22-4747-879e-b282385e77fd",
   "metadata": {
    "id": "bb70f304-6c22-4747-879e-b282385e77fd"
   },
   "outputs": [],
   "source": [
    "load_dotenv()\n",
    "MISTRAL_API_KEY = os.getenv(\"MISTRAL_API_KEY\")\n",
    "NVD_API_KEY = os.getenv(\"NVD_API_KEY\")\n",
    "NVD_API_URL =\"https://services.nvd.nist.gov/rest/json/cves/2.0\""
   ]
  },
  {
   "cell_type": "code",
   "execution_count": null,
   "id": "a80a6ad0-8250-4d69-b5f9-4834fe18411f",
   "metadata": {
    "id": "a80a6ad0-8250-4d69-b5f9-4834fe18411f"
   },
   "outputs": [],
   "source": [
    "@tool\n",
    "def cve_search(cve_id: str = None, start_date: str = None, end_date: str = None, \n",
    "               keyword: str = None, cvss4_severity: str = None) -> str:\n",
    "    \"\"\"\n",
    "    Searches for CVEs in the National Vulnerability Database.\n",
    "    \n",
    "    Parameters:\n",
    "    - cve_id: Specific CVE ID to look up (e.g., 'CVE-2024-47195')\n",
    "    - start_date: Start date in YYYY-MM-DD format (e.g., '2024-01-01')\n",
    "    - end_date: End date in YYYY-MM-DD format (e.g., '2024-01-31')\n",
    "    - keyword: Keyword to search for (e.g., 'Heartbleed', 'OpenSSL')\n",
    "    - cvss4_severity: Filter by CVSS4 severity ('LOW', 'MEDIUM', 'HIGH', 'CRITICAL')\n",
    "    \n",
    "    Example inputs:\n",
    "        - (cve_id='CVE-2024-47195')\n",
    "        - (start_date='2024-01-01', end_date='2024-01-31')\n",
    "        - (keyword='Heartbleed')\n",
    "        - (cvss4_severity='HIGH') \n",
    "        - (keyword='OpenSSL', cvss4_severity='CRITICAL')\n",
    "    \"\"\"\n",
    "    \n",
    "    # Build query parameters\n",
    "    params = {}\n",
    "    if cve_id:\n",
    "        params[\"cveId\"] = cve_id\n",
    "    if start_date and end_date:\n",
    "        params[\"pubStartDate\"] = f\"{start_date}T00:00:00.000\"\n",
    "        params[\"pubEndDate\"] = f\"{end_date}T23:59:59.999\"\n",
    "    if keyword:\n",
    "        params[\"keywordSearch\"] = keyword\n",
    "    if cvss4_severity:\n",
    "        if cvss4_severity.upper() in {\"LOW\", \"MEDIUM\", \"HIGH\", \"CRITICAL\"}:\n",
    "            params[\"cvssV4Severity\"] = cvss4_severity.upper()\n",
    "        else:\n",
    "            return f\"Invalid CVSS4 severity: {cvss4_severity}. Valid values are: LOW, MEDIUM, HIGH, CRITICAL\"\n",
    "    \n",
    "    # Make API request\n",
    "    headers = {\"apiKey\": NVD_API_KEY}\n",
    "    response = requests.get(NVD_API_URL, params=params, headers=headers)\n",
    "    \n",
    "    if response.status_code != 200:\n",
    "        return f\"Error accessing NVD API: {response.status_code}\"\n",
    "    \n",
    "    vulnerabilities = response.json().get(\"vulnerabilities\", [])\n",
    "    \n",
    "    if not vulnerabilities:\n",
    "        return \"No vulnerabilities found matching the criteria.\"\n",
    "    \n",
    "    # Format results\n",
    "    results = []\n",
    "    for vuln in vulnerabilities:\n",
    "        cve = vuln[\"cve\"]\n",
    "        \n",
    "        # Extract basic info\n",
    "        cve_id = cve[\"id\"]\n",
    "        descriptions = cve.get(\"descriptions\", [])\n",
    "        description = descriptions[0].get(\"value\", \"No description available\") if descriptions else \"No description available\"\n",
    "        published = cve.get(\"published\", \"Date unknown\")\n",
    "        \n",
    "        # Extract CVSS metrics if available\n",
    "        metrics = cve.get(\"metrics\", {})\n",
    "        cvss4_info = \"\"\n",
    "        \n",
    "        if \"cvssMetricV4\" in metrics:\n",
    "            for metric in metrics[\"cvssMetricV4\"]:\n",
    "                base_score = metric.get(\"baseScore\", \"N/A\")\n",
    "                severity = metric.get(\"baseSeverity\", \"N/A\")\n",
    "                cvss4_info = f\" [CVSS4 Score: {base_score}, Severity: {severity}]\"\n",
    "        \n",
    "        # Format this vulnerability's entry\n",
    "        results.append(f\"- {cve_id} (Published: {published}){cvss4_info}: {description}\")\n",
    "    \n",
    "    # Return formatted results\n",
    "    return f\"Found {len(results)} Vulnerabilities:\\n\" + \"\\n\".join(results)"
   ]
  },
  {
   "cell_type": "code",
   "execution_count": null,
   "id": "a42457d0-c7d6-41b6-881d-d916dee7e20c",
   "metadata": {
    "id": "a42457d0-c7d6-41b6-881d-d916dee7e20c"
   },
   "outputs": [],
   "source": [
    "tools = [cve_search]\n",
    "\n",
    "llm = ChatMistralAI(\n",
    "    model=\"mistral-tiny\",\n",
    "    api_key=MISTRAL_API_KEY,\n",
    "    temperature=0\n",
    ")\n",
    "\n",
    "agent=initialize_agent(\n",
    "    tools,\n",
    "    llm,\n",
    "    agent=AgentType.STRUCTURED_CHAT_ZERO_SHOT_REACT_DESCRIPTION,\n",
    "    verbose=True\n",
    ")"
   ]
  },
  {
   "cell_type": "code",
   "execution_count": null,
   "id": "a82fef49-e6fe-4826-822d-39640f301a47",
   "metadata": {},
   "outputs": [],
   "source": [
    "# Run the chatbot\n",
    "while True:\n",
    "    user_input = input(\"Ask about a vulnerability or type 'exit': \")\n",
    "    if user_input == \"exit\":\n",
    "        break\n",
    "    response = agent.invoke(user_input)\n",
    "    print(response['output'])"
   ]
  }
 ],
 "metadata": {
  "colab": {
   "provenance": []
  },
  "kernelspec": {
   "display_name": "Python 3 (ipykernel)",
   "language": "python",
   "name": "python3"
  },
  "language_info": {
   "codemirror_mode": {
    "name": "ipython",
    "version": 3
   },
   "file_extension": ".py",
   "mimetype": "text/x-python",
   "name": "python",
   "nbconvert_exporter": "python",
   "pygments_lexer": "ipython3",
   "version": "3.12.4"
  }
 },
 "nbformat": 4,
 "nbformat_minor": 5
}
