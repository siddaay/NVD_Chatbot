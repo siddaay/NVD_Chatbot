{
 "cells": [
  {
   "cell_type": "code",
   "execution_count": null,
   "id": "cf6bf944-7905-435e-9700-ede13f3eec0e",
   "metadata": {},
   "outputs": [],
   "source": [
    "pip install -U langchain requests langchain_mistralai"
   ]
  },
  {
   "cell_type": "code",
   "execution_count": null,
   "id": "73bf3a82-52b4-4b7e-b92f-b5eed6179c5d",
   "metadata": {},
   "outputs": [],
   "source": [
    "import requests\n",
    "import os\n",
    "from dotenv import load_dotenv\n",
    "from langchain.agents import AgentExecutor, AgentType, initialize_agent, create_tool_calling_agent, tool\n",
    "from langchain_core.prompts import ChatPromptTemplate, MessagesPlaceholder\n",
    "from langchain_mistralai.chat_models import ChatMistralAI"
   ]
  },
  {
   "cell_type": "code",
   "execution_count": null,
   "id": "bb70f304-6c22-4747-879e-b282385e77fd",
   "metadata": {},
   "outputs": [],
   "source": [
    "load_dotenv()\n",
    "MISTRAL_API_KEY = os.getenv(\"MISTRAL_API_KEY\")\n",
    "NVD_API_KEY = os.getenv(\"NVD_API_KEY\")\n",
    "NVD_API_URL = \"https://services.nvd.nist.gov/rest/json/cves/2.0\""
   ]
  },
  {
   "cell_type": "code",
   "execution_count": null,
   "id": "ed1096a2-8c9d-4d6c-88d7-518d4577c6ff",
   "metadata": {},
   "outputs": [],
   "source": [
    "@tool(return_direct=True)\n",
    "def get_cve_details(cve_id: str):\n",
    "    \"\"\"Looks up details from the National Vulnerability Database about a specific CVE by its ID (e.g., CVE-2024-47195)\"\"\"\n",
    "    headers = {\"apiKey\": NVD_API_KEY}\n",
    "    params = {\"cveId\": cve_id}\n",
    "    response = requests.get(NVD_API_URL, params=params, headers=headers)\n",
    "    \n",
    "    if response.status_code == 200:\n",
    "        data = response.json()\n",
    "        if \"vulnerabilities\" in data and data[\"vulnerabilities\"]:\n",
    "            cve_data = data[\"vulnerabilities\"][0][\"cve\"]\n",
    "            print(cve_data)\n",
    "            return f\"{cve_data['id']}: {cve_data['descriptions'][0]['value']}\"\n",
    "    \n",
    "    return \"CVE not found.\""
   ]
  },
  {
   "cell_type": "code",
   "execution_count": null,
   "id": "6ad26a96-6012-4abb-82f8-ce418f422aaf",
   "metadata": {},
   "outputs": [],
   "source": [
    "@tool\n",
    "def add5(a: int) -> int:\n",
    "    \"\"\"Adds 5 to a.\"\"\"\n",
    "    return a+5"
   ]
  },
  {
   "cell_type": "code",
   "execution_count": null,
   "id": "a80a6ad0-8250-4d69-b5f9-4834fe18411f",
   "metadata": {},
   "outputs": [],
   "source": [
    "@tool\n",
    "def get_cves_by_date_range(date_range: str) -> str:\n",
    "    \"\"\"Searches for CVEs published within a specific date range in YYYY-MM-DD format. Example input: '2024-01-01 2024-01-31'\"\"\"\n",
    "    dates = date_range.split()\n",
    "    headers = {\"apiKey\": NVD_API_KEY}\n",
    "    params = {\n",
    "        \"pubStartDate\": f\"{dates[0]}T00:00:00.000\",\n",
    "        \"pubEndDate\": f\"{dates[1]}T23:59:59.999\"\n",
    "    }\n",
    "    \n",
    "    response = requests.get(NVD_API_URL, headers=headers, params=params)\n",
    "    if response.status_code == 200:\n",
    "        data = response.json()\n",
    "        if \"vulnerabilities\" in data and data[\"vulnerabilities\"]:\n",
    "            # Format the results into a readable string\n",
    "            results = []\n",
    "            for vuln in data[\"vulnerabilities\"]:\n",
    "                cve = vuln[\"cve\"]\n",
    "                cve_id = cve[\"id\"]\n",
    "                description = cve[\"descriptions\"][0][\"value\"] if cve[\"descriptions\"] else \"No description available\"\n",
    "                published = cve.get(\"published\", \"Date unknown\")\n",
    "                results.append(f\"- {cve_id} (Published: {published}): {description}\")\n",
    "            \n",
    "            return f\"Found {len(results)} Vulnerabilities:\\n\" + \"\\n\".join(results)\n",
    "        return \"No vulnerabilities found in this date range.\"\n",
    "    return f\"Error accessing NVD API: {response.status_code}\""
   ]
  },
  {
   "cell_type": "code",
   "execution_count": null,
   "id": "f65ff1a3-7aa2-4968-9171-7602caa4ac67",
   "metadata": {},
   "outputs": [],
   "source": [
    "tools = [get_cve_details, get_cves_by_date_range, add5]"
   ]
  },
  {
   "cell_type": "code",
   "execution_count": null,
   "id": "56306ba1-1758-4dea-b067-66da94bec65f",
   "metadata": {},
   "outputs": [],
   "source": [
    "print(get_cve_details(\"CVE-2024-47195\"))"
   ]
  },
  {
   "cell_type": "code",
   "execution_count": null,
   "id": "326e496e-88c9-4c01-949c-186fbba7f713",
   "metadata": {},
   "outputs": [],
   "source": [
    "print(get_cves_by_date_range(\"2024-01-01 2024-01-31\"))"
   ]
  },
  {
   "cell_type": "code",
   "execution_count": null,
   "id": "a42457d0-c7d6-41b6-881d-d916dee7e20c",
   "metadata": {},
   "outputs": [],
   "source": [
    "llm = ChatMistralAI(model=\"mistral-small\", api_key=MISTRAL_API_KEY, temperature=0)\n",
    "agent=initialize_agent(tools,llm,agent=AgentType.ZERO_SHOT_REACT_DESCRIPTION,verbose=True)"
   ]
  },
  {
   "cell_type": "code",
   "execution_count": null,
   "id": "c9082813-d138-49e6-9517-a5f89c461339",
   "metadata": {},
   "outputs": [],
   "source": [
    "# Run the chatbot\n",
    "while True:\n",
    "    user_input = input(\"Ask about a vulnerability or type 'exit': \")\n",
    "    if user_input == \"exit\":\n",
    "        break\n",
    "    response = agent.invoke(\n",
    "        {\n",
    "            \"input\": (\n",
    "                \"What are the details of CVE-2024-47195?\"\n",
    "            )\n",
    "        }\n",
    "    )\n",
    "    print(response)"
   ]
  },
  {
   "cell_type": "code",
   "execution_count": null,
   "id": "f4102a2f-01f7-48d0-9b9c-2e6bc50374dc",
   "metadata": {},
   "outputs": [],
   "source": [
    "response.tool_calls"
   ]
  },
  {
   "cell_type": "code",
   "execution_count": null,
   "id": "24b6abb1-8ce1-4a43-b858-f3a590307637",
   "metadata": {},
   "outputs": [],
   "source": []
  }
 ],
 "metadata": {
  "kernelspec": {
   "display_name": "Python 3 (ipykernel)",
   "language": "python",
   "name": "python3"
  },
  "language_info": {
   "codemirror_mode": {
    "name": "ipython",
    "version": 3
   },
   "file_extension": ".py",
   "mimetype": "text/x-python",
   "name": "python",
   "nbconvert_exporter": "python",
   "pygments_lexer": "ipython3",
   "version": "3.12.8"
  }
 },
 "nbformat": 4,
 "nbformat_minor": 5
}
